{
  "nbformat": 4,
  "nbformat_minor": 0,
  "metadata": {
    "colab": {
      "provenance": [],
      "authorship_tag": "ABX9TyPMegWI2IoQXeXD/06BefDA",
      "include_colab_link": true
    },
    "kernelspec": {
      "name": "python3",
      "display_name": "Python 3"
    },
    "language_info": {
      "name": "python"
    }
  },
  "cells": [
    {
      "cell_type": "markdown",
      "metadata": {
        "id": "view-in-github",
        "colab_type": "text"
      },
      "source": [
        "<a href=\"https://colab.research.google.com/github/arjun-anapalli/Spectacles/blob/main/Some_Leetcode_Answers.ipynb\" target=\"_parent\"><img src=\"https://colab.research.google.com/assets/colab-badge.svg\" alt=\"Open In Colab\"/></a>"
      ]
    },
    {
      "cell_type": "code",
      "execution_count": null,
      "metadata": {
        "id": "nudcp6luUUKB"
      },
      "outputs": [],
      "source": [
        "#1 Add two Numbers (LeetCode#2)\n",
        "\n",
        "# Definition for singly-linked list.\n",
        "# class ListNode:\n",
        "#     def __init__(self, val=0, next=None):\n",
        "#         self.val = val\n",
        "#         self.next = next\n",
        "class Solution:\n",
        "    def addTwoNumbers(self, l1: Optional[ListNode], l2: Optional[ListNode]) -> Optional[ListNode]:\n",
        "        dummy= ListNode(0)\n",
        "        tail= dummy\n",
        "        carry=0\n",
        "        while l1 is not None or l2 is not None or carry!=0:\n",
        "            digit1= l1.val if l1 is not None else 0\n",
        "            digit2= l2.val if l2 is not None else 0\n",
        "            sum= digit1+ digit2+ carry\n",
        "            digit= sum%10\n",
        "            carry= sum//10\n",
        "\n",
        "            newNode= ListNode(digit)\n",
        "            tail.next= newNode\n",
        "            tail=tail.next\n",
        "\n",
        "            l1= l1.next if l1 is not None else None\n",
        "            l2= l2.next if l2 is not None else None\n",
        "        result=dummy.next\n",
        "        dummy.next=None\n",
        "        return result"
      ]
    },
    {
      "cell_type": "code",
      "source": [
        " #2 Longest Substr (Leetcode#3)\n",
        " class Solution:\n",
        "    def lengthOfLongestSubstring(self, s: str) -> int:\n",
        "        n= len(s)\n",
        "        maxLength=0\n",
        "        charIndex=[-1]*128\n",
        "        left=0\n",
        "\n",
        "        for right in range(n):\n",
        "            if charIndex[ord(s[right])]>=left:\n",
        "                left=charIndex[ord(s[right])]+1\n",
        "            charIndex[ord(s[right])]=right\n",
        "            maxLength= max(maxLength, right-left +1)\n",
        "        return maxLength"
      ],
      "metadata": {
        "id": "i0TVX8VZYtMP"
      },
      "execution_count": null,
      "outputs": []
    },
    {
      "cell_type": "code",
      "source": [
        "#3 Median of Two sorted arrays (Leetcode#4)\n",
        "class Solution:\n",
        "    def findMedianSortedArrays(self, nums1, nums2):\n",
        "      n= len(nums1)\n",
        "      m= len(nums2)\n",
        "      i=0\n",
        "      j=0\n",
        "      m1=0\n",
        "      m2=0\n",
        "      for count in range(0,(n+m)//2+1):\n",
        "        m2=m1\n",
        "        if i<n and j<m:\n",
        "            if nums1[i]>nums2[j]:\n",
        "                m1=nums2[j]\n",
        "                j+=1\n",
        "            else:\n",
        "                m1=nums1[i]\n",
        "                i+=1\n",
        "        elif i<n:\n",
        "            m1=nums1[i]\n",
        "            i+=1\n",
        "        else:\n",
        "            m1=nums2[j]\n",
        "            j+=1\n",
        "      if (n+m)%2==1:\n",
        "        return float(m1)\n",
        "      else:\n",
        "        ans=float(m1)+float(m2)\n",
        "        return ans/2.0"
      ],
      "metadata": {
        "id": "m9XlxiipaPr8"
      },
      "execution_count": null,
      "outputs": []
    },
    {
      "cell_type": "code",
      "source": [
        "#4 Longest Palindromic Str (Leetcode#5)\n",
        "class Solution:\n",
        "    def longestPalindrome(self, s: str) -> str:\n",
        "        if len(s)<=1:\n",
        "            return s\n",
        "        Max_len=1\n",
        "        Max_str=s[0]\n",
        "        s= '#'+'#'.join(s)+'#'\n",
        "        dp= [0 for _ in range(len(s))]\n",
        "        center=0\n",
        "        right=0\n",
        "        for i in range(len(s)):\n",
        "            if i<right:\n",
        "                dp[i]= min(right-i,dp[2*center-i])\n",
        "            while i-dp[i]-1 >=0 and i+dp[i]+1 < len(s) and s[i-dp[i]-1] == s[i+dp[i]+1]:\n",
        "                dp[i]+=1\n",
        "            if i+dp[i]>right:\n",
        "                center=i\n",
        "                right= i+dp[i]\n",
        "            if dp[i]> Max_len:\n",
        "                Max_len=dp[i]\n",
        "                Max_str=s[i-dp[i]:i+dp[i]+1].replace('#','')\n",
        "        return Max_str"
      ],
      "metadata": {
        "id": "gxD1ZJpsnaht"
      },
      "execution_count": null,
      "outputs": []
    },
    {
      "cell_type": "code",
      "source": [
        "#5 ZigZag conversion (Leetcode#6)\n",
        "class Solution:\n",
        "    def convert(self, s:string, numRows:int)-> str:\n",
        "        if numRows==1 or numRows>=len(s):\n",
        "            return s\n",
        "        idx, d =0,1\n",
        "        rows=[[]for _ in range(numRows)]\n",
        "        for char in s:\n",
        "            rows[idx].append(char)\n",
        "            if idx==0:\n",
        "                d=1\n",
        "            elif idx==numRows-1:\n",
        "                d=-1\n",
        "            idx+=d\n",
        "        for i in range(numRows):\n",
        "            rows[i]=''.join(rows[i])\n",
        "\n",
        "        return ''.join(rows)"
      ],
      "metadata": {
        "id": "Yqdg-w6qoUOF"
      },
      "execution_count": null,
      "outputs": []
    },
    {
      "cell_type": "code",
      "source": [
        "#6 String to integer(Atoi) Problem(leetcode#8)\n",
        "class Solution:\n",
        "    def myAtoi(self, s: str) -> int:\n",
        "        int_max, int_min = (2**31) - 1, -1 * (2**31)\n",
        "        num , l, sign, idx = 0, len(s), 1 , 0\n",
        "\n",
        "        while idx < l and s[idx] == ' ':\n",
        "            idx += 1\n",
        "\n",
        "        if idx < l and (s[idx] == '+' or s[idx] == '-'):\n",
        "            sign = -1 if s[idx] == '-' else 1\n",
        "            idx += 1\n",
        "\n",
        "        while idx < l and ord(s[idx]) >= ord('0') and ord(s[idx]) <= ord('9'):\n",
        "            num = num * 10 + int(s[idx])\n",
        "            idx += 1\n",
        "\n",
        "        num *= sign\n",
        "\n",
        "        return min(max(num, int_min), int_max)"
      ],
      "metadata": {
        "id": "4cRLPalPt_WQ"
      },
      "execution_count": null,
      "outputs": []
    },
    {
      "cell_type": "code",
      "source": [
        "#7 Regular expression matching(Leetcode#10)\n",
        "class Solution {\n",
        "    public boolean isMatch(String s, String p) {\n",
        "        if (p == null || p.length() == 0) return (s == null || s.length() == 0);\n",
        "\n",
        "        boolean dp[][] = new boolean[s.length()+1][p.length()+1];\n",
        "        dp[0][0] = true;\n",
        "        for (int j=2; j<=p.length(); j++) {\n",
        "            dp[0][j] = p.charAt(j-1) == '*' && dp[0][j-2];\n",
        "        }\n",
        "\n",
        "        for (int j=1; j<=p.length(); j++) {\n",
        "            for (int i=1; i<=s.length(); i++) {\n",
        "                if (p.charAt(j-1) == s.charAt(i-1) || p.charAt(j-1) == '.')\n",
        "\t\t\t\t\tdp[i][j] = dp[i-1][j-1];\n",
        "                else if(p.charAt(j-1) == '*')\n",
        "                    dp[i][j] = dp[i][j-2] || ((s.charAt(i-1) == p.charAt(j-2) || p.charAt(j-2) == '.') && dp[i-1][j]);\n",
        "            }\n",
        "        }\n",
        "        return dp[s.length()][p.length()];\n",
        "    }\n",
        "}"
      ],
      "metadata": {
        "id": "TLcMVrhuuKsa"
      },
      "execution_count": null,
      "outputs": []
    },
    {
      "cell_type": "code",
      "source": [
        "#8 Remove duplicates from a sorted array (Leetcode#26)\n",
        "class Solution:\n",
        "    def removeDuplicates(self, nums: List[int]) -> int:\n",
        "        nums[:]= sorted(set(nums))\n",
        "        return len(nums)"
      ],
      "metadata": {
        "id": "5Zu1UEJJXtEs"
      },
      "execution_count": null,
      "outputs": []
    },
    {
      "cell_type": "code",
      "source": [
        "#9 Best time to buy and sell stock(Leetcode#121)\n",
        "class Solution:\n",
        "    def maxProfit(self, prices: List[int]) -> int:\n",
        "        min_price=prices[0]\n",
        "        max_profit=0\n",
        "        for price in prices[1:]:\n",
        "            max_profit= max(max_profit,price-min_price)\n",
        "            min_price= min(min_price, price)\n",
        "        return max_profit"
      ],
      "metadata": {
        "id": "5kvDKeUkas4F"
      },
      "execution_count": null,
      "outputs": []
    },
    {
      "cell_type": "code",
      "source": [
        "#10 Maximum Subarray (Leetcode#53)\n",
        "class Solution:\n",
        "    def maxSubArray(self, nums: List[int]) -> int:\n",
        "        maxSum, cursum= nums[0], 0\n",
        "        for num in nums:\n",
        "            if cursum<0:\n",
        "                cursum=0\n",
        "            cursum= cursum+num\n",
        "            maxSum= max(maxSum, cursum)\n",
        "        return maxSum\n"
      ],
      "metadata": {
        "id": "vRh9oPOOZNk0"
      },
      "execution_count": null,
      "outputs": []
    },
    {
      "cell_type": "code",
      "source": [
        "#11 Rotate Array(Leetcode#189)\n",
        "class Solution:\n",
        "    def maxProfit(self, prices: List[int]) -> int:\n",
        "        min_price=prices[0]\n",
        "        max_profit=0\n",
        "        for price in prices[1:]:\n",
        "            max_profit= max(max_profit,price-min_price)\n",
        "            min_price= min(min_price, price)\n",
        "        return max_profit\n"
      ],
      "metadata": {
        "id": "cQJb6aEzaVdI"
      },
      "execution_count": null,
      "outputs": []
    },
    {
      "cell_type": "code",
      "source": [
        "#12 Contains Duplicate(Leetcode#217)\n",
        "class Solution:\n",
        "    def containsDuplicate(self, nums: List[int]) -> bool:\n",
        "        nums.sort()\n",
        "        for i in range(1,len(nums)):\n",
        "            if nums[i]==nums[i-1]:\n",
        "                return True\n",
        "        return False"
      ],
      "metadata": {
        "id": "L1KYkToUcz2C"
      },
      "execution_count": null,
      "outputs": []
    },
    {
      "cell_type": "code",
      "source": [
        "#String to Integer (atoi)\n",
        "class Solution:\n",
        "    def myAtoi(self, s: str) -> int:\n",
        "        int_max, int_min = (2**31) - 1, -1 * (2**31)\n",
        "        num , l, sign, idx = 0, len(s), 1 , 0\n",
        "\n",
        "        while idx < l and s[idx] == ' ':\n",
        "            idx += 1\n",
        "\n",
        "        if idx < l and (s[idx] == '+' or s[idx] == '-'):\n",
        "            sign = -1 if s[idx] == '-' else 1\n",
        "            idx += 1\n",
        "\n",
        "        while idx < l and ord(s[idx]) >= ord('0') and ord(s[idx]) <= ord('9'):\n",
        "            num = num * 10 + int(s[idx])\n",
        "            idx += 1\n",
        "\n",
        "        num *= sign\n",
        "\n",
        "        return min(max(num, int_min), int_max)"
      ],
      "metadata": {
        "id": "RDu3SlBldprr"
      },
      "execution_count": null,
      "outputs": []
    },
    {
      "cell_type": "code",
      "source": [
        "#Same tree\n",
        "# Definition for a binary tree node.\n",
        "# class TreeNode:\n",
        "#     def __init__(self, val=0, left=None, right=None):\n",
        "#         self.val = val\n",
        "#         self.left = left\n",
        "#         self.right = right\n",
        "class Solution:\n",
        "    def isSameTree(self, p: Optional[TreeNode], q: Optional[TreeNode]) -> bool:\n",
        "        def same(p,q):\n",
        "            if not p and not q:\n",
        "                return True\n",
        "            if (p and not q) or (q and not p):\n",
        "                return False\n",
        "            if p.val != q.val:\n",
        "                return False\n",
        "            return same(p.left,q.left) and same(p.right, q.right)\n",
        "        return same(p,q)"
      ],
      "metadata": {
        "id": "v1shZYinejKr"
      },
      "execution_count": null,
      "outputs": []
    },
    {
      "cell_type": "code",
      "source": [
        "#Count nodes equal to average of Subtree\n",
        "# Definition for a binary tree node.\n",
        "# class TreeNode:\n",
        "#     def __init__(self, val=0, left=None, right=None):\n",
        "#         self.val = val\n",
        "#         self.left = left\n",
        "#         self.right = right\n",
        "class Solution:\n",
        "    def averageOfSubtree(self, root: TreeNode) -> int:\n",
        "        num_nodes=[0]\n",
        "        def dfs(root):\n",
        "            if not root:\n",
        "                return (0,0)\n",
        "\n",
        "            N_left, summ_left= dfs(root.left)\n",
        "            N_right, summ_right= dfs(root.right)\n",
        "\n",
        "            N= 1+ N_left+ N_right\n",
        "            summ= root.val+ summ_left+ summ_right\n",
        "            avg= summ//N\n",
        "\n",
        "            if root.val==avg:\n",
        "                num_nodes[0]+=1\n",
        "            return (N,summ)\n",
        "        dfs(root)\n",
        "        return num_nodes[0]"
      ],
      "metadata": {
        "id": "8arwlIiVfR7B"
      },
      "execution_count": null,
      "outputs": []
    },
    {
      "cell_type": "code",
      "source": [
        "#Valid Word\n",
        "class Solution:\n",
        "    def isValid(self, word: str) -> bool:\n",
        "        vowels='aeiou'\n",
        "        vowels+=vowels.upper()\n",
        "        consonants= 'qwrtypsdfghjklzxcvbnm'\n",
        "        consonants+=consonants.upper()\n",
        "        allowed= vowels+ consonants + '0123456789'\n",
        "\n",
        "        if len(word)<3: return False\n",
        "        has_vowel= False\n",
        "        has_consonants= False\n",
        "\n",
        "        for c in word:\n",
        "            if c in vowels: has_vowel=True\n",
        "            if c in consonants: has_consonants= True\n",
        "            if c not in allowed: return False\n",
        "        return has_vowel and has_consonants"
      ],
      "metadata": {
        "id": "0VkRwlB2fsy0"
      },
      "execution_count": null,
      "outputs": []
    },
    {
      "cell_type": "code",
      "source": [
        "#Special Array I\n",
        "class Solution:\n",
        "    def isArraySpecial(self, nums: List[int]) -> bool:\n",
        "       def parity(x):\n",
        "            if x%2==1:\n",
        "                return 'odd'\n",
        "            else:\n",
        "                return 'even'\n",
        "       for i in range(1, len(nums)):\n",
        "            if parity(nums[i])==parity(nums[i-1]):\n",
        "                return False\n",
        "       return True"
      ],
      "metadata": {
        "id": "fzNOUELvgC99"
      },
      "execution_count": null,
      "outputs": []
    },
    {
      "cell_type": "code",
      "source": [
        "#Last Stone Weight\n",
        "class Solution:\n",
        "    def lastStoneWeight(self, stones: List[int]) -> int:\n",
        "        def remove_largest():\n",
        "            largest_i= stones.index(max(stones))\n",
        "            return stones.pop(largest_i)\n",
        "        while len(stones)>1:\n",
        "            y= remove_largest()\n",
        "            x=remove_largest()\n",
        "            if x!=y:\n",
        "                stones.append(y-x)\n",
        "        return stones[0] if stones else 0\n"
      ],
      "metadata": {
        "id": "jtxrJnvKgMmr"
      },
      "execution_count": null,
      "outputs": []
    },
    {
      "cell_type": "code",
      "source": [
        "#Permutations\n",
        "from itertools import permutations\n",
        "class Solution:\n",
        "    def permute(self, nums: List[int]) -> List[List[int]]:\n",
        "        return permutations(nums)\n",
        "\n"
      ],
      "metadata": {
        "id": "PFt5AiPNgZH2"
      },
      "execution_count": null,
      "outputs": []
    },
    {
      "cell_type": "code",
      "source": [
        "#20 Missing Number\n",
        "class Solution:\n",
        "    def missingNumber(self, nums: List[int]) -> int:\n",
        "        n=len(nums)\n",
        "        s= set(nums)\n",
        "\n",
        "        for num in range(n+1):\n",
        "            if num not in s:\n",
        "                return num\n"
      ],
      "metadata": {
        "id": "eeV0prYsghdO"
      },
      "execution_count": null,
      "outputs": []
    },
    {
      "cell_type": "code",
      "source": [
        "#Sqrt(x)\n",
        "class Solution:\n",
        "    def mySqrt(self, x: int) -> int:\n",
        "        L,R=1,x\n",
        "        while L<=R:\n",
        "            M= (L+R)//2\n",
        "            M_sq= M*M\n",
        "            if M_sq==x:\n",
        "                return M\n",
        "            elif M_sq<x:\n",
        "                L=M+1\n",
        "            else:\n",
        "                R=M-1\n",
        "        return R"
      ],
      "metadata": {
        "id": "cktsJgGvgu91"
      },
      "execution_count": null,
      "outputs": []
    },
    {
      "cell_type": "code",
      "source": [
        "#Maximum depth of a binary tree\n",
        "/**\n",
        " * Definition for a binary tree node.\n",
        " * struct TreeNode {\n",
        " *     int val;\n",
        " *     TreeNode *left;\n",
        " *     TreeNode *right;\n",
        " *     TreeNode() : val(0), left(nullptr), right(nullptr) {}\n",
        " *     TreeNode(int x) : val(x), left(nullptr), right(nullptr) {}\n",
        " *     TreeNode(int x, TreeNode *left, TreeNode *right) : val(x), left(left), right(right) {}\n",
        " * };\n",
        " */\n",
        "class Solution {\n",
        "public:\n",
        "    int maxDepth(TreeNode* root) {\n",
        "        if(!root) return 0;\n",
        "        int maxLeft= maxDepth(root->left);\n",
        "        int maxRight= maxDepth(root->right);\n",
        "        return max(maxLeft,maxRight)+1;\n",
        "\n",
        "    }\n",
        "};"
      ],
      "metadata": {
        "id": "q1qCndrAg6FZ"
      },
      "execution_count": null,
      "outputs": []
    },
    {
      "cell_type": "code",
      "source": [
        "#Reverse Linked List\n",
        "# Definition for singly-linked list.\n",
        "# class ListNode:\n",
        "#     def __init__(self, val=0, next=None):\n",
        "#         self.val = val\n",
        "#         self.next = next\n",
        "class Solution:\n",
        "    def reverseList(self, head: Optional[ListNode]) -> Optional[ListNode]:\n",
        "        new_list=None\n",
        "        current=head\n",
        "        while current:\n",
        "            next_node= current.next\n",
        "            current.next= new_list\n",
        "            new_list=current\n",
        "            current=next_node\n",
        "        return new_list"
      ],
      "metadata": {
        "id": "s_3DPmu4hI4X"
      },
      "execution_count": null,
      "outputs": []
    },
    {
      "cell_type": "code",
      "source": [
        "#Linked List Cycle\n",
        "# Definition for singly-linked list.\n",
        "# class ListNode:\n",
        "#     def __init__(self, x):\n",
        "#         self.val = x\n",
        "#         self.next = None\n",
        "\n",
        "class Solution:\n",
        "    def hasCycle(self, head: Optional[ListNode]) -> bool:\n",
        "        if not head or not head.next:\n",
        "            return False\n",
        "        slow=head\n",
        "        fast=head.next\n",
        "        while slow!=fast:\n",
        "            if not fast or not fast.next:\n",
        "                return False\n",
        "            slow= slow.next\n",
        "            fast= fast.next.next\n",
        "        return True"
      ],
      "metadata": {
        "id": "RcaOiMhPhXKw"
      },
      "execution_count": null,
      "outputs": []
    },
    {
      "cell_type": "code",
      "source": [
        "#Remove Nth Node from end of list\n",
        "# Definition for singly-linked list.\n",
        "# class ListNode:\n",
        "#     def __init__(self, val=0, next=None):\n",
        "#         self.val = val\n",
        "#         self.next = next\n",
        "class Solution:\n",
        "    def removeNthFromEnd(self, head: Optional[ListNode], n: int) -> Optional[ListNode]:\n",
        "        dummy=ListNode(0)\n",
        "        dummy.next=head\n",
        "        first=dummy\n",
        "        second=dummy\n",
        "\n",
        "        for i in range(n+1):\n",
        "            first=first.next\n",
        "\n",
        "        while first is not None:\n",
        "            first= first.next\n",
        "            second= second.next\n",
        "\n",
        "        second.next= second.next.next\n",
        "        return dummy.next\n",
        "\n"
      ],
      "metadata": {
        "id": "okvlplYnhior"
      },
      "execution_count": null,
      "outputs": []
    },
    {
      "cell_type": "code",
      "source": [
        "#Intersection of two linked lists\n",
        "# Definition for singly-linked list.\n",
        "# class ListNode:\n",
        "#     def __init__(self, x):\n",
        "#         self.val = x\n",
        "#         self.next = None\n",
        "\n",
        "class Solution:\n",
        "    def getIntersectionNode(self, headA: ListNode, headB: ListNode) -> Optional[ListNode]:\n",
        "        cur1,cur2= headA, headB\n",
        "        n1,n2= 1,1\n",
        "        while(cur1.next):\n",
        "            n1+=1\n",
        "            cur1=cur1.next\n",
        "        while(cur2.next):\n",
        "            n2+=1\n",
        "            cur2=cur2.next\n",
        "        if cur1!=cur2: return None\n",
        "        cur1, cur2= headA, headB\n",
        "        if n1>n2:\n",
        "            while(n1!=n2):\n",
        "                n1-=1\n",
        "                cur1=cur1.next\n",
        "        elif n1<n2:\n",
        "            while(n1!=n2):\n",
        "                n2-=1\n",
        "                cur2=cur2.next\n",
        "        while(cur1!=cur2):\n",
        "            cur1=cur1.next\n",
        "            cur2=cur2.next\n",
        "        return cur1"
      ],
      "metadata": {
        "id": "rHsTIDEih0xK"
      },
      "execution_count": null,
      "outputs": []
    },
    {
      "cell_type": "code",
      "source": [
        "#Path Sum\n",
        "# Definition for a binary tree node.\n",
        "# class TreeNode:\n",
        "#     def __init__(self, val=0, left=None, right=None):\n",
        "#         self.val = val\n",
        "#         self.left = left\n",
        "#         self.right = right\n",
        "class Solution:\n",
        "    def hasPathSum(self, root: Optional[TreeNode], targetSum: int) -> bool:\n",
        "        if not root:\n",
        "            return False\n",
        "        targetSum-=root.val\n",
        "        if not root.left and not root.right:\n",
        "            return targetSum==0\n",
        "        return self.hasPathSum(root.left,targetSum)or self.hasPathSum(root.right,targetSum)"
      ],
      "metadata": {
        "id": "-USGaLEkh50Q"
      },
      "execution_count": null,
      "outputs": []
    },
    {
      "cell_type": "code",
      "source": [
        "#Path Sum II\n",
        "# Definition for a binary tree node.\n",
        "# class TreeNode:\n",
        "#     def __init__(self, val=0, left=None, right=None):\n",
        "#         self.val = val\n",
        "#         self.left = left\n",
        "#         self.right = right\n",
        "class Solution:\n",
        "    def pathSum(self, root: Optional[TreeNode], targetSum: int) -> List[List[int]]:\n",
        "        lis=[]\n",
        "        res=[]\n",
        "        def treeTraversal(root:Optional[TreeNode]):\n",
        "            if root==None:\n",
        "                return\n",
        "            lis.append(root.val)\n",
        "            treeTraversal(root.left)\n",
        "            treeTraversal(root.right)\n",
        "            if(root.left==None and root.right==None):\n",
        "                sums= sum(lis)\n",
        "                if (sums==targetSum):\n",
        "                    res.append(lis.copy())\n",
        "            lis.pop()\n",
        "        treeTraversal(root)\n",
        "        return res"
      ],
      "metadata": {
        "id": "4eBb7hfUiDIA"
      },
      "execution_count": null,
      "outputs": []
    },
    {
      "cell_type": "code",
      "source": [
        "#Find the duplicate number\n",
        "class Solution {\n",
        "    public int findDuplicate(int[] nums) {\n",
        "        Arrays.sort(nums);\n",
        "        for(int i=0;i<nums.length-1;i++)\n",
        "            if (nums[i]==nums[i+1]) return nums[i];\n",
        "        return -1;\n",
        "    }\n",
        "}"
      ],
      "metadata": {
        "id": "517rDO4piND9"
      },
      "execution_count": null,
      "outputs": []
    },
    {
      "cell_type": "code",
      "source": [
        "#Hamming Distance\n",
        "class Solution:\n",
        "    def hammingDistance(self, x: int, y: int) -> int:\n",
        "        return bin(x^y)[2:].count(\"1\")"
      ],
      "metadata": {
        "id": "wl3mVF30iXs5"
      },
      "execution_count": null,
      "outputs": []
    },
    {
      "cell_type": "code",
      "source": [
        "#Reverse Bits\n",
        "class Solution:\n",
        "    def reverseBits(self, n: int) -> int:\n",
        "        res=0\n",
        "        for i in range(32):\n",
        "            res=(res<<1)|(n&1)\n",
        "            n>>=1\n",
        "        return res"
      ],
      "metadata": {
        "id": "cJJz6gbxij7j"
      },
      "execution_count": null,
      "outputs": []
    },
    {
      "cell_type": "code",
      "source": [
        "#Number of 1 bits\n",
        "class Solution:\n",
        "    def hammingWeight(self, n: int) -> int:\n",
        "        return bin(n).count(\"1\")"
      ],
      "metadata": {
        "id": "21D2NrFiisCi"
      },
      "execution_count": null,
      "outputs": []
    },
    {
      "cell_type": "code",
      "source": [
        "#Number of Islands\n",
        "class Solution:\n",
        "    def numIslands(self, grid: List[List[str]]) -> int:\n",
        "        if not grid:\n",
        "            return 0\n",
        "        def dfs(i,j):\n",
        "            if i<0 or i>=len(grid) or j<0 or j>=len(grid[0]) or grid[i][j]!='1':\n",
        "                return\n",
        "            grid[i][j]='0'\n",
        "            dfs(i+1,j)\n",
        "            dfs(i-1,j)\n",
        "            dfs(i,j+1)\n",
        "            dfs(i,j-1)\n",
        "        num_islands=0\n",
        "        for i in range(len(grid)):\n",
        "            for j in range(len(grid[0])):\n",
        "                if grid[i][j]=='1':\n",
        "                    num_islands+=1\n",
        "                    dfs(i,j)\n",
        "        return num_islands\n"
      ],
      "metadata": {
        "id": "DCRfa-jzi4Nj"
      },
      "execution_count": null,
      "outputs": []
    },
    {
      "cell_type": "code",
      "source": [
        "#Clone Graph\n",
        "\"\"\"\n",
        "# Definition for a Node.\n",
        "class Node:\n",
        "    def __init__(self, val = 0, neighbors = None):\n",
        "        self.val = val\n",
        "        self.neighbors = neighbors if neighbors is not None else []\n",
        "\"\"\"\n",
        "\n",
        "from typing import Optional\n",
        "class Solution:\n",
        "    def cloneGraph(self, node: Optional['Node']) -> Optional['Node']:\n",
        "        if not node: return node\n",
        "        q,clones= deque([node]), {node.val: Node(node.val,[])}\n",
        "        while q:\n",
        "            cur= q.popleft()\n",
        "            cur_clone= clones[cur.val]\n",
        "            for ngbr in cur.neighbors:\n",
        "                if ngbr.val not in clones:\n",
        "                    clones[ngbr.val]= Node(ngbr.val,[])\n",
        "                    q.append(ngbr)\n",
        "                cur_clone.neighbors.append(clones[ngbr.val])\n",
        "        return clones[node.val]"
      ],
      "metadata": {
        "id": "qvRAOKsei_xJ"
      },
      "execution_count": null,
      "outputs": []
    },
    {
      "cell_type": "code",
      "source": [
        "#Course Schedule\n",
        "class Solution:\n",
        "    def canFinish(self, n: int, prerequisites: List[List[int]]) -> bool:\n",
        "        adj=[ [] for _ in range(n)]\n",
        "        indegree=[0]*n\n",
        "        ans=[]\n",
        "        for pair in prerequisites:\n",
        "            course=pair[0]\n",
        "            prerequisite= pair[1]\n",
        "            adj[prerequisite].append(course)\n",
        "            indegree[course]+=1\n",
        "        queue= deque()\n",
        "        for i in range(n):\n",
        "            if indegree[i]==0:\n",
        "                queue.append(i)\n",
        "        while queue:\n",
        "            current= queue.popleft()\n",
        "            ans.append(current)\n",
        "            for next_course in adj[current]:\n",
        "                indegree[next_course]-=1\n",
        "                if indegree[next_course]==0:\n",
        "                    queue.append(next_course)\n",
        "        return len(ans)==n"
      ],
      "metadata": {
        "id": "fvDojX36jJsX"
      },
      "execution_count": null,
      "outputs": []
    },
    {
      "cell_type": "code",
      "source": [
        "#Implement Trie (Prefix tree)\n",
        "class Trie:\n",
        "\n",
        "    def __init__(self):\n",
        "        self.data=set()\n",
        "        self.prefs=set()\n",
        "\n",
        "    def insert(self, word: str) -> None:\n",
        "        cur=''\n",
        "        for char in word:\n",
        "            cur+=char\n",
        "            self.prefs.add(cur)\n",
        "        self.data.add(word)\n",
        "\n",
        "    def search(self, word: str) -> bool:\n",
        "        return word in self.data\n",
        "\n",
        "    def startsWith(self, prefix: str) -> bool:\n",
        "        return prefix in self.prefs\n",
        "\n",
        "\n",
        "\n",
        "# Your Trie object will be instantiated and called as such:\n",
        "# obj = Trie()\n",
        "# obj.insert(word)\n",
        "# param_2 = obj.search(word)\n",
        "# param_3 = obj.startsWith(prefix)"
      ],
      "metadata": {
        "id": "KpBTMihIjR0s"
      },
      "execution_count": null,
      "outputs": []
    },
    {
      "cell_type": "code",
      "source": [
        "#Design Hashset\n",
        "class MyHashSet:\n",
        "\n",
        "    def __init__(self):\n",
        "        self.set=0\n",
        "\n",
        "    def add(self, key: int) -> None:\n",
        "        self.set |=(1<<key)\n",
        "\n",
        "    def remove(self, key: int) -> None:\n",
        "        self.set&= ~(1<<key)\n",
        "\n",
        "    def contains(self, key: int) -> bool:\n",
        "        return self.set& (1<<key)\n",
        "\n",
        "\n",
        "# Your MyHashSet object will be instantiated and called as such:\n",
        "# obj = MyHashSet()\n",
        "# obj.add(key)\n",
        "# obj.remove(key)\n",
        "# param_3 = obj.contains(key)"
      ],
      "metadata": {
        "id": "naxsk3qNjl6h"
      },
      "execution_count": null,
      "outputs": []
    },
    {
      "cell_type": "code",
      "source": [
        "#Design Hashmap\n",
        "class MyHashMap:\n",
        "\n",
        "    def __init__(self):\n",
        "        self.data=[None]*1000001\n",
        "\n",
        "\n",
        "    def put(self, key: int, value: int) -> None:\n",
        "        self.data[key]=value\n",
        "\n",
        "    def get(self, key: int) -> int:\n",
        "        val=self.data[key]\n",
        "        return val if val!=None else -1\n",
        "\n",
        "    def remove(self, key: int) -> None:\n",
        "        self.data[key]=None\n",
        "\n",
        "\n",
        "# Your MyHashMap object will be instantiated and called as such:\n",
        "# obj = MyHashMap()\n",
        "# obj.put(key,value)\n",
        "# param_2 = obj.get(key)\n",
        "# obj.remove(key)"
      ],
      "metadata": {
        "id": "AsAYQbIZj466"
      },
      "execution_count": null,
      "outputs": []
    },
    {
      "cell_type": "code",
      "source": [
        "#Min Stack\n",
        "class MinStack:\n",
        "\n",
        "    def __init__(self):\n",
        "        self.a=[]\n",
        "        self.min=inf\n",
        "        self.l=0\n",
        "\n",
        "    def push(self, val: int) -> None:\n",
        "        self.a.append(val)\n",
        "        if val<self.min:\n",
        "            self.min=val\n",
        "        self.l+=1\n",
        "\n",
        "\n",
        "    def pop(self) -> None:\n",
        "        x=self.a.pop()\n",
        "        self.l-=1\n",
        "        if x==self.min:\n",
        "            self.min= min(self.a) if self.l!=0 else inf\n",
        "\n",
        "\n",
        "    def top(self) -> int:\n",
        "        return self.a[-1]\n",
        "\n",
        "    def getMin(self) -> int:\n",
        "        return self.min\n",
        "\n",
        "\n",
        "\n",
        "# Your MinStack object will be instantiated and called as such:\n",
        "# obj = MinStack()\n",
        "# obj.push(val)\n",
        "# obj.pop()\n",
        "# param_3 = obj.top()\n",
        "# param_4 = obj.getMin()"
      ],
      "metadata": {
        "id": "HgcOb61JkJwa"
      },
      "execution_count": null,
      "outputs": []
    },
    {
      "cell_type": "code",
      "source": [
        "#LRU Cache\n",
        "class LRUCache:\n",
        "\n",
        "    class Node:\n",
        "        def __init__ (self,key,val):\n",
        "            self.key=key\n",
        "            self.val=val\n",
        "            self.prev=None\n",
        "            self.next=None\n",
        "    def __init__(self, capacity: int):\n",
        "        self.cap=capacity\n",
        "        self.head= self.Node(-1,-1)\n",
        "        self.tail= self.Node(-1,-1)\n",
        "        self.head.next= self.tail\n",
        "        self.tail.prev=self.head\n",
        "        self.m={}\n",
        "    def addNode(self,newnode):\n",
        "        temp=self.head.next\n",
        "        newnode.next=temp\n",
        "        newnode.prev=self.head\n",
        "        self.head.next=newnode\n",
        "        temp.prev=newnode\n",
        "    def deleteNode(self,delnode):\n",
        "        prevv= delnode.prev\n",
        "        nextt=delnode.next\n",
        "        prevv.next=nextt\n",
        "        nextt.prev=prevv\n",
        "\n",
        "    def get(self, key: int) -> int:\n",
        "        if key in self.m:\n",
        "            resNode= self.m[key]\n",
        "            ans=resNode.val\n",
        "            del self.m[key]\n",
        "            self.deleteNode(resNode)\n",
        "            self.addNode(resNode)\n",
        "            self.m[key]=self.head.next\n",
        "            return ans\n",
        "        return -1\n",
        "\n",
        "\n",
        "    def put(self, key: int, value: int) -> None:\n",
        "        if key in self.m:\n",
        "            curr=self.m[key]\n",
        "            del self.m[key]\n",
        "            self.deleteNode(curr)\n",
        "        if len(self.m)==self.cap:\n",
        "            del self.m[self.tail.prev.key]\n",
        "            self.deleteNode(self.tail.prev)\n",
        "        self.addNode(self.Node(key,value))\n",
        "        self.m[key]= self.head.next\n",
        "\n",
        "# Your LRUCache object will be instantiated and called as such:\n",
        "# obj = LRUCache(capacity)\n",
        "# param_1 = obj.get(key)\n",
        "# obj.put(key,value)"
      ],
      "metadata": {
        "id": "UPGHwgvkkbwd"
      },
      "execution_count": null,
      "outputs": []
    },
    {
      "cell_type": "code",
      "source": [
        "#Implement Queue using stacks\n",
        "class MyQueue:\n",
        "\n",
        "    def __init__(self):\n",
        "        self.s1=[]\n",
        "        self.s2=[]\n",
        "\n",
        "    def push(self, x: int) -> None:\n",
        "        while self.s1:\n",
        "            self.s2.append(self.s1.pop())\n",
        "        self.s1.append(x)\n",
        "        while self.s2:\n",
        "            self.s1.append(self.s2.pop())\n",
        "\n",
        "    def pop(self) -> int:\n",
        "        return self.s1.pop()\n",
        "\n",
        "    def peek(self) -> int:\n",
        "        return self.s1[-1]\n",
        "\n",
        "    def empty(self) -> bool:\n",
        "        return not self.s1\n",
        "\n",
        "\n",
        "# Your MyQueue object will be instantiated and called as such:\n",
        "# obj = MyQueue()\n",
        "# obj.push(x)\n",
        "# param_2 = obj.pop()\n",
        "# param_3 = obj.peek()\n",
        "# param_4 = obj.empty()"
      ],
      "metadata": {
        "id": "U0o1pfMEklnh"
      },
      "execution_count": null,
      "outputs": []
    },
    {
      "cell_type": "code",
      "source": [
        "#Longest Consecutive Sequence\n",
        "class Solution:\n",
        "    def longestConsecutive(self, nums: List[int]) -> int:\n",
        "        ans=0\n",
        "        seen=set(nums)\n",
        "        for num in nums:\n",
        "            if num-1 in seen:\n",
        "                continue\n",
        "            length=0\n",
        "            while num in seen:\n",
        "                num+=1\n",
        "                length+=1\n",
        "            ans= max(ans,length)\n",
        "        return ans\n",
        "\n"
      ],
      "metadata": {
        "id": "vJ2LWBMckymf"
      },
      "execution_count": null,
      "outputs": []
    },
    {
      "cell_type": "code",
      "source": [
        "#Sum root to leaf Numbers\n",
        "# Definition for a binary tree node.\n",
        "# class TreeNode:\n",
        "#     def __init__(self, val=0, left=None, right=None):\n",
        "#         self.val = val\n",
        "#         self.left = left\n",
        "#         self.right = right\n",
        "class Solution:\n",
        "    def sumNumbers(self, root: Optional[TreeNode]) -> int:\n",
        "        ans=0\n",
        "        def dfs(root: Optional[TreeNode], path:int)->None:\n",
        "            nonlocal ans\n",
        "            if not root:\n",
        "                return\n",
        "            if not root.left and not root.right:\n",
        "                ans+=path*10+root.val\n",
        "                return\n",
        "            dfs(root.left, path*10+root.val)\n",
        "            dfs(root.right, path*10+root.val)\n",
        "        dfs(root,0)\n",
        "        return ans"
      ],
      "metadata": {
        "id": "RhLi9rgLlA4o"
      },
      "execution_count": null,
      "outputs": []
    },
    {
      "cell_type": "code",
      "source": [
        "#Valid Palindrome\n",
        "class Solution:\n",
        "    def isPalindrome(self, s: str) -> bool:\n",
        "        l=0\n",
        "        r= len(s)-1\n",
        "        while l<r:\n",
        "            while l<r and not s[l].isalnum():\n",
        "                l+=1\n",
        "            while l<r and not s[r].isalnum():\n",
        "                r-=1\n",
        "            if s[l].lower()!=s[r].lower():\n",
        "                return False\n",
        "            l+=1\n",
        "            r-=1\n",
        "        return True"
      ],
      "metadata": {
        "id": "ld9eCyPKlLDk"
      },
      "execution_count": null,
      "outputs": []
    },
    {
      "cell_type": "code",
      "source": [
        "#Palindrome Participation\n",
        "class Solution:\n",
        "    def partition(self, s: str) -> List[List[str]]:\n",
        "        ans=[]\n",
        "        def isPalindrome(s:str)->bool:\n",
        "            return s==s[::-1]\n",
        "        def dfs(s:str, j:int, path:List[str], ans:List[List[str]])->None:\n",
        "            if j==len(s):\n",
        "                ans.append(path)\n",
        "                return\n",
        "            for i in range(j,len(s)):\n",
        "                if isPalindrome(s[j:i+1]):\n",
        "                    dfs(s, i+1, path+[s[j:i+1]],ans)\n",
        "        dfs(s,0,[],ans)\n",
        "        return ans"
      ],
      "metadata": {
        "id": "gh8H1PLSlTw5"
      },
      "execution_count": null,
      "outputs": []
    },
    {
      "cell_type": "code",
      "source": [
        "#FizzBuzz\n",
        "class Solution:\n",
        "    def fizzBuzz(self, n: int) -> List[str]:\n",
        "        l=[]\n",
        "        for i in range(1,n+1):\n",
        "            if i%3==0 and i%5==0:\n",
        "                l.append(\"FizzBuzz\")\n",
        "            elif i%3==0:\n",
        "                l.append(\"Fizz\")\n",
        "            elif i%5==0:\n",
        "                l.append(\"Buzz\")\n",
        "            else:\n",
        "                l.append(str(i))\n",
        "        return l"
      ],
      "metadata": {
        "id": "ei74w46UleFu"
      },
      "execution_count": null,
      "outputs": []
    },
    {
      "cell_type": "code",
      "source": [
        "#Gas Station\n",
        "class Solution:\n",
        "    def canCompleteCircuit(self, gas: List[int], cost: List[int]) -> int:\n",
        "        ans=0\n",
        "        net=0\n",
        "        summ=0\n",
        "        for i in range(len(gas)):\n",
        "            net+=gas[i]-cost[i]\n",
        "            summ+= gas[i]-cost[i]\n",
        "            if summ<0:\n",
        "                summ=0\n",
        "                ans=i+1\n",
        "        return -1 if net<0 else ans"
      ],
      "metadata": {
        "id": "F7AoEHH2lloA"
      },
      "execution_count": null,
      "outputs": []
    },
    {
      "cell_type": "code",
      "source": [
        "#Candy\n",
        "class Solution:\n",
        "    def candy(self, ratings: List[int]) -> int:\n",
        "        ans=0\n",
        "        n=len(ratings)\n",
        "        l=[1]*n\n",
        "        r=[1]*n\n",
        "        for i in range(1,n):\n",
        "            if ratings[i]>ratings[i-1]:\n",
        "                l[i]=l[i-1]+1\n",
        "        for i in range(n-2,-1,-1):\n",
        "            if ratings[i]>ratings[i+1]:\n",
        "                r[i]=r[i+1]+1\n",
        "        for a,b in zip(l,r):\n",
        "            ans+=max(a,b)\n",
        "        return ans"
      ],
      "metadata": {
        "id": "m-bn5y7il2rh"
      },
      "execution_count": null,
      "outputs": []
    },
    {
      "cell_type": "code",
      "source": [
        "#Single number\n",
        "class Solution:\n",
        "    def singleNumber(self, nums: List[int]) -> int:\n",
        "        return functools.reduce(operator.xor,nums,0)"
      ],
      "metadata": {
        "id": "F86fKTKpl-Sh"
      },
      "execution_count": null,
      "outputs": []
    },
    {
      "cell_type": "code",
      "source": [
        "#Single number II\n",
        "class Solution:\n",
        "    def singleNumber(self, nums: List[int]) -> int:\n",
        "        ones=0\n",
        "        twos=0\n",
        "        for num in nums:\n",
        "            ones^= num & ~twos\n",
        "            twos^= num & ~ones\n",
        "        return ones"
      ],
      "metadata": {
        "id": "aASDAZssmxDu"
      },
      "execution_count": null,
      "outputs": []
    },
    {
      "cell_type": "code",
      "source": [
        "#Implement Stack using queues\n",
        "class MyStack:\n",
        "\n",
        "    def __init__(self):\n",
        "        self.q=collections.deque()\n",
        "\n",
        "    def push(self, x: int) -> None:\n",
        "        self.q.append(x)\n",
        "        for _ in range(len(self.q)-1):\n",
        "            self.q.append(self.q.popleft())\n",
        "\n",
        "\n",
        "    def pop(self) -> int:\n",
        "        return self.q.popleft()\n",
        "\n",
        "    def top(self) -> int:\n",
        "        return self.q[0]\n",
        "\n",
        "\n",
        "    def empty(self) -> bool:\n",
        "        return not self.q\n",
        "\n",
        "\n",
        "# Your MyStack object will be instantiated and called as such:\n",
        "# obj = MyStack()\n",
        "# obj.push(x)\n",
        "# param_2 = obj.pop()\n",
        "# param_3 = obj.top()\n",
        "# param_4 = obj.empty()"
      ],
      "metadata": {
        "id": "yajHMY0wm8wW"
      },
      "execution_count": null,
      "outputs": []
    },
    {
      "cell_type": "code",
      "source": [
        "#Subsets\n",
        "class Solution:\n",
        "    def subsets(self, nums: List[int]) -> List[List[int]]:\n",
        "        ans=[]\n",
        "        def dfs(s:int, path:List[int])->None:\n",
        "            ans.append(path)\n",
        "            for i in range(s, len(nums)):\n",
        "                dfs(i+1, path+[nums[i]])\n",
        "        dfs(0,[])\n",
        "        return ans"
      ],
      "metadata": {
        "id": "-XavfCAJnJD6"
      },
      "execution_count": null,
      "outputs": []
    },
    {
      "cell_type": "code",
      "source": [
        "#Escape the ghosts\n",
        "class Solution:\n",
        "    def escapeGhosts(self, ghosts: List[List[int]], target: List[int]) -> bool:\n",
        "        ghostSteps= min(abs(x-target[0])+ abs(y-target[1]) for x,y in ghosts)\n",
        "        return abs(target[0])+abs(target[1])<ghostSteps"
      ],
      "metadata": {
        "id": "RMlYfnkanSqZ"
      },
      "execution_count": null,
      "outputs": []
    },
    {
      "cell_type": "code",
      "source": [
        "#Domino and tromino tiling\n",
        "class Solution:\n",
        "    def numTilings(self, n: int) -> int:\n",
        "        kMod= 1_000_000_007\n",
        "        dp=[0,1,2,5]+ [0]*997\n",
        "        for i in range(4, n+1):\n",
        "            dp[i]=2*dp[i-1]+dp[i-3]\n",
        "        return dp[n]%kMod\n"
      ],
      "metadata": {
        "id": "1DQtbkibnbIk"
      },
      "execution_count": null,
      "outputs": []
    },
    {
      "cell_type": "code",
      "source": [
        "#Custom sort string\n",
        "class Solution:\n",
        "    def customSortString(self, order: str, s: str) -> str:\n",
        "        ans=\"\"\n",
        "        count=[0]*26\n",
        "        for c in s:\n",
        "            count[ord(c)-ord('a')]+=1\n",
        "        for c in order:\n",
        "            while count[ord(c)-ord('a')]>0:\n",
        "                ans+=c\n",
        "                count[ord(c)-ord('a')]-=1\n",
        "        for c in string.ascii_lowercase:\n",
        "            for _ in range(count[ord(c)-ord('a')]):\n",
        "                ans+=c\n",
        "        return ans"
      ],
      "metadata": {
        "id": "i5TFHst7noEH"
      },
      "execution_count": null,
      "outputs": []
    },
    {
      "cell_type": "code",
      "source": [
        "#Combination Sum\n",
        "class Solution:\n",
        "    def combinationSum(self, candidates: List[int], target: int) -> List[List[int]]:\n",
        "        ans=[]\n",
        "        def dfs(s:int, target:int, path:List[int])->None:\n",
        "            if target<0:\n",
        "                return\n",
        "            if target==0:\n",
        "                ans.append(path.copy())\n",
        "                return\n",
        "            for i in range(s, len(candidates)):\n",
        "                path.append(candidates[i])\n",
        "                dfs(i,target-candidates[i],path)\n",
        "                path.pop()\n",
        "        candidates.sort()\n",
        "        dfs(0,target,[])\n",
        "        return ans\n"
      ],
      "metadata": {
        "id": "tszbR2TUoV5u"
      },
      "execution_count": null,
      "outputs": []
    },
    {
      "cell_type": "code",
      "source": [
        "#product of array except self\n",
        "class Solution:\n",
        "    def productExceptSelf(self, nums: List[int]) -> List[int]:\n",
        "        n=len(nums)\n",
        "        prefix= [1]*n\n",
        "        suffix=[1]*n\n",
        "        for i in range(1,n):\n",
        "            prefix[i]=prefix[i-1]*nums[i-1]\n",
        "        for i in reversed(range(n-1)):\n",
        "            suffix[i]=suffix[i+1]*nums[i+1]\n",
        "        return [prefix[i]*suffix[i] for i in range(n)]"
      ],
      "metadata": {
        "id": "J27P5ZRWoqjq"
      },
      "execution_count": null,
      "outputs": []
    },
    {
      "cell_type": "code",
      "source": [
        "#Plus One\n",
        "class Solution:\n",
        "    def plusOne(self, digits: List[int]) -> List[int]:\n",
        "        for i,d in reversed(list(enumerate(digits))):\n",
        "            if d<9:\n",
        "                digits[i]+=1\n",
        "                return digits\n",
        "            digits[i]=0\n",
        "        return [1]+digits\n"
      ],
      "metadata": {
        "id": "Yt0smnBro8NR"
      },
      "execution_count": null,
      "outputs": []
    },
    {
      "cell_type": "code",
      "source": [
        "#Add binary\n",
        "class Solution:\n",
        "    def addBinary(self, a: str, b: str) -> str:\n",
        "        ans=[]\n",
        "        carry=0\n",
        "        i=len(a)-1\n",
        "        j= len(b)-1\n",
        "        while i>=0 or j>=0 or carry:\n",
        "            if i>=0:\n",
        "                carry+=int(a[i])\n",
        "                i-=1\n",
        "            if j>=0:\n",
        "                carry+=int(b[j])\n",
        "                j-=1\n",
        "            ans.append(str(carry%2))\n",
        "            carry//=2\n",
        "        return ''.join(reversed(ans))\n"
      ],
      "metadata": {
        "id": "Q7sHAFQLpHf0"
      },
      "execution_count": null,
      "outputs": []
    },
    {
      "cell_type": "code",
      "source": [
        "#Move Zeroes\n",
        "class Solution:\n",
        "    def moveZeroes(self, nums: List[int]) -> None:\n",
        "        \"\"\"\n",
        "        Do not return anything, modify nums in-place instead.\n",
        "        \"\"\"\n",
        "        j=0\n",
        "        for num in nums:\n",
        "            if num!=0:\n",
        "                nums[j]=num\n",
        "                j+=1\n",
        "        for i in range(j, len(nums)):\n",
        "            nums[i]=0\n"
      ],
      "metadata": {
        "id": "cwwMfF_kpasn"
      },
      "execution_count": null,
      "outputs": []
    },
    {
      "cell_type": "code",
      "source": [
        "#Peeking iterator\n",
        "# Below is the interface for Iterator, which is already defined for you.\n",
        "#\n",
        "# class Iterator:\n",
        "#     def __init__(self, nums):\n",
        "#         \"\"\"\n",
        "#         Initializes an iterator object to the beginning of a list.\n",
        "#         :type nums: List[int]\n",
        "#         \"\"\"\n",
        "#\n",
        "#     def hasNext(self):\n",
        "#         \"\"\"\n",
        "#         Returns true if the iteration has more elements.\n",
        "#         :rtype: bool\n",
        "#         \"\"\"\n",
        "#\n",
        "#     def next(self):\n",
        "#         \"\"\"\n",
        "#         Returns the next element in the iteration.\n",
        "#         :rtype: int\n",
        "#         \"\"\"\n",
        "\n",
        "class PeekingIterator:\n",
        "    def __init__(self, iterator):\n",
        "        \"\"\"\n",
        "        Initialize your data structure here.\n",
        "        :type iterator: Iterator\n",
        "        \"\"\"\n",
        "        self.iterator= iterator\n",
        "        self.buffer=self.iterator.next() if self.iterator.hasNext() else None\n",
        "\n",
        "    def peek(self):\n",
        "        \"\"\"\n",
        "        Returns the next element in the iteration without advancing the iterator.\n",
        "        :rtype: int\n",
        "        \"\"\"\n",
        "        return self.buffer\n",
        "\n",
        "    def next(self):\n",
        "        \"\"\"\n",
        "        :rtype: int\n",
        "        \"\"\"\n",
        "        next= self.buffer\n",
        "        self.buffer= self.iterator.next() if self.iterator.hasNext() else None\n",
        "        return next\n",
        "\n",
        "    def hasNext(self):\n",
        "        \"\"\"\n",
        "        :rtype: bool\n",
        "        \"\"\"\n",
        "        return self.buffer is not None\n",
        "\n",
        "\n",
        "# Your PeekingIterator object will be instantiated and called as such:\n",
        "# iter = PeekingIterator(Iterator(nums))\n",
        "# while iter.hasNext():\n",
        "#     val = iter.peek()   # Get the next element but not advance the iterator.\n",
        "#     iter.next()         # Should return the same value as [val]."
      ],
      "metadata": {
        "id": "E1nq_SkqpqwG"
      },
      "execution_count": null,
      "outputs": []
    },
    {
      "cell_type": "code",
      "source": [
        "#Binary search\n",
        "class Solution:\n",
        "    def search(self, nums: List[int], target: int) -> int:\n",
        "        i= bisect.bisect_left(nums,target)\n",
        "        return -1 if i==len(nums) or nums[i]!= target else i"
      ],
      "metadata": {
        "id": "Cx0MOU_wpyWa"
      },
      "execution_count": null,
      "outputs": []
    },
    {
      "cell_type": "code",
      "source": [
        "#Unique Paths\n",
        "class Solution:\n",
        "    def uniquePaths(self, m: int, n: int) -> int:\n",
        "        dp=[[1]*n for _ in range(m)]\n",
        "        for i in range(1,m):\n",
        "            for j in range(1,n):\n",
        "                dp[i][j]= dp[i-1][j]+dp[i][j-1]\n",
        "        return dp[-1][-1]"
      ],
      "metadata": {
        "id": "EOSg6jsLp7ww"
      },
      "execution_count": null,
      "outputs": []
    },
    {
      "cell_type": "code",
      "source": [
        "#Minimum Path Sum\n",
        "class Solution:\n",
        "    def minPathSum(self, grid: List[List[int]]) -> int:\n",
        "        m=len(grid)\n",
        "        n=len(grid[0])\n",
        "        for i in range(m):\n",
        "            for j in range(n):\n",
        "                if i>0 and j>0:\n",
        "                    grid[i][j]+= min(grid[i-1][j], grid[i][j-1])\n",
        "                elif i>0:\n",
        "                    grid[i][0]+= grid[i-1][0]\n",
        "                elif j>0:\n",
        "                    grid[0][j]+= grid[0][j-1]\n",
        "        return grid[m-1][n-1]\n"
      ],
      "metadata": {
        "id": "nGchbliqqMb_"
      },
      "execution_count": null,
      "outputs": []
    },
    {
      "cell_type": "code",
      "source": [
        "#Find all numbers disappeared in array\n",
        "class Solution:\n",
        "    def findDisappearedNumbers(self, nums: List[int]) -> List[int]:\n",
        "        for num in nums:\n",
        "            index= abs(num)-1\n",
        "            nums[index]= -abs(nums[index])\n",
        "        return[i+1 for i,num in enumerate(nums) if num>0]"
      ],
      "metadata": {
        "id": "FwhrSTjmqWOE"
      },
      "execution_count": null,
      "outputs": []
    },
    {
      "cell_type": "code",
      "source": [
        "#Sort characters by frequency\n",
        "class Solution:\n",
        "    def frequencySort(self, s: str) -> str:\n",
        "        ans=[]\n",
        "        buckets=[[]for _ in range(len(s)+1)]\n",
        "        for c, freq in collections.Counter(s).items():\n",
        "            buckets[freq].append(c)\n",
        "        for freq in reversed(range(len(buckets))):\n",
        "            for c in buckets[freq]:\n",
        "                ans.append(c*freq)\n",
        "        return ''.join(ans)"
      ],
      "metadata": {
        "id": "CSlFfZAYqh2l"
      },
      "execution_count": null,
      "outputs": []
    },
    {
      "cell_type": "code",
      "source": [
        "#Intersection of two Arrays\n",
        "class Solution:\n",
        "    def intersection(self, nums1: List[int], nums2: List[int]) -> List[int]:\n",
        "        return set(nums1).intersection(set(nums2))"
      ],
      "metadata": {
        "id": "7HnWCjsaqqNM"
      },
      "execution_count": null,
      "outputs": []
    },
    {
      "cell_type": "code",
      "source": [
        "#fibonacci number\n",
        "class Solution:\n",
        "    def fib(self, n: int) -> int:\n",
        "        m=0\n",
        "        if n==0:\n",
        "            return 0\n",
        "        elif n==1:\n",
        "            return 1\n",
        "        else:\n",
        "            m=self.fib(n-1)+self.fib(n-2)\n",
        "            return m"
      ],
      "metadata": {
        "id": "eRmA2GDqq5Ig"
      },
      "execution_count": null,
      "outputs": []
    },
    {
      "cell_type": "code",
      "source": [
        "#Array partition\n",
        "class Solution:\n",
        "    def arrayPairSum(self, nums: List[int]) -> int:\n",
        "        nums.sort()\n",
        "        return(sum(nums[::2]))"
      ],
      "metadata": {
        "id": "wRXmumP8q-X3"
      },
      "execution_count": null,
      "outputs": []
    },
    {
      "cell_type": "code",
      "source": [
        "#Monotonic Array\n",
        "class Solution:\n",
        "    def isMonotonic(self, nums: List[int]) -> bool:\n",
        "        increasing=True\n",
        "        decreasing=True\n",
        "        for i in range(1,len(nums)):\n",
        "            increasing&= nums[i-1]<=nums[i]\n",
        "            decreasing&= nums[i-1]>=nums[i]\n",
        "        return increasing or decreasing"
      ],
      "metadata": {
        "id": "66x-WJjtrGp3"
      },
      "execution_count": null,
      "outputs": []
    },
    {
      "cell_type": "code",
      "source": [
        "#Shuffle an array\n",
        "class Solution:\n",
        "\n",
        "    def __init__(self, nums: List[int]):\n",
        "        self.nums=nums\n",
        "\n",
        "    def reset(self) -> List[int]:\n",
        "        return self.nums\n",
        "\n",
        "    def shuffle(self) -> List[int]:\n",
        "        A= self.nums.copy()\n",
        "        for i in range(len(A)-1,0,-1):\n",
        "            j= random.randint(0,i)\n",
        "            A[i],A[j]=A[j],A[i]\n",
        "        return A\n",
        "\n",
        "\n",
        "\n",
        "# Your Solution object will be instantiated and called as such:\n",
        "# obj = Solution(nums)\n",
        "# param_1 = obj.reset()\n",
        "# param_2 = obj.shuffle()"
      ],
      "metadata": {
        "id": "_AYkAM3RrPkb"
      },
      "execution_count": null,
      "outputs": []
    },
    {
      "cell_type": "code",
      "source": [
        "#Lexicographical Numbers\n",
        "class Solution:\n",
        "    def lexicalOrder(self, n: int) -> List[int]:\n",
        "        ans=[]\n",
        "        curr=1\n",
        "        while len(ans)<n:\n",
        "            ans.append(curr)\n",
        "            if curr*10<=n:\n",
        "                curr*=10\n",
        "            else:\n",
        "                while curr%10==9 or curr==n:\n",
        "                    curr//=10\n",
        "                curr+=1\n",
        "        return ans"
      ],
      "metadata": {
        "id": "VcsKf_xOriwb"
      },
      "execution_count": null,
      "outputs": []
    },
    {
      "cell_type": "code",
      "source": [
        "#First unique character in a string\n",
        "class Solution:\n",
        "    def firstUniqChar(self, s: str) -> int:\n",
        "        count=collections.Counter(s)\n",
        "        for i,c in enumerate(s):\n",
        "            if count[c]==1:\n",
        "                return i\n",
        "        return -1"
      ],
      "metadata": {
        "id": "CSBHAcXhrq2v"
      },
      "execution_count": null,
      "outputs": []
    },
    {
      "cell_type": "code",
      "source": [
        "#convert the temperature\n",
        "class Solution:\n",
        "    def convertTemperature(self, celsius: float) -> List[float]:\n",
        "        return [celsius+ 273.15, celsius*1.8+32]"
      ],
      "metadata": {
        "id": "W6m2yZzzr1FZ"
      },
      "execution_count": null,
      "outputs": []
    },
    {
      "cell_type": "code",
      "source": [
        "#Number of subarrays with LCM equal to k\n",
        "class Solution:\n",
        "    def subarrayLCM(self, nums: List[int], k: int) -> int:\n",
        "        ans=0\n",
        "        for i, runningLcm in enumerate(nums):\n",
        "            for j in range(i, len(nums)):\n",
        "                runningLcm= math.lcm(runningLcm,nums[j])\n",
        "                if runningLcm>k:\n",
        "                    break\n",
        "                if runningLcm==k:\n",
        "                    ans+=1\n",
        "        return ans"
      ],
      "metadata": {
        "id": "hEphwvtBsELY"
      },
      "execution_count": null,
      "outputs": []
    },
    {
      "cell_type": "code",
      "source": [
        "#Final value of variable after performing opeartions\n",
        "class Solution:\n",
        "    def finalValueAfterOperations(self, operations: List[str]) -> int:\n",
        "        return sum(op[1]=='+' or -1 for op in operations)\n"
      ],
      "metadata": {
        "id": "m3Yi6KeKsPtp"
      },
      "execution_count": null,
      "outputs": []
    },
    {
      "cell_type": "code",
      "source": [
        "#Jewels and stones\n",
        "class Solution:\n",
        "    def numJewelsInStones(self, jewels: str, stones: str) -> int:\n",
        "        jewelSet=set(jewels)\n",
        "        return sum(stone in jewelSet for stone in stones)"
      ],
      "metadata": {
        "id": "tUECcRozscth"
      },
      "execution_count": null,
      "outputs": []
    },
    {
      "cell_type": "code",
      "source": [
        "#Roman to integer\n",
        "class Solution:\n",
        "    def romanToInt(self, s: str) -> int:\n",
        "        ans=0\n",
        "        roman={'I':1, 'V':5, 'X':10, 'L':50, 'C':100, 'D':500, 'M':1000}\n",
        "        for a,b in zip(s,s[1:]):\n",
        "            if roman[a]<roman[b]:\n",
        "                ans-=roman[a]\n",
        "            else:\n",
        "                ans+=roman[a]\n",
        "        return ans+ roman[s[-1]]"
      ],
      "metadata": {
        "id": "dO-CaNV0sm7m"
      },
      "execution_count": null,
      "outputs": []
    },
    {
      "cell_type": "code",
      "source": [
        "#Check if array is sorted and rotated\n",
        "class Solution {\n",
        "    public boolean check(int[] nums) {\n",
        "        final int n=nums.length;\n",
        "        int rotates=0;\n",
        "        for( int i=0; i<n; ++i)\n",
        "            if(nums[i]>nums[(i+1)%n] && ++rotates>1)\n",
        "            return false;\n",
        "        return true;\n",
        "    }\n",
        "}"
      ],
      "metadata": {
        "id": "zNqdjD4bs-iK"
      },
      "execution_count": null,
      "outputs": []
    },
    {
      "cell_type": "code",
      "source": [
        "#Maximum score from removing stones\n",
        "class Solution {\n",
        "    public int maximumScore(int a, int b, int c) {\n",
        "        int[] stones = new int[]{a,b,c};\n",
        "        Arrays.sort(stones);\n",
        "\n",
        "        if(stones[0]+stones[1]<stones[2])\n",
        "            return stones[0]+stones[1];\n",
        "\n",
        "        return (a+b+c)/2;\n",
        "    }\n",
        "}"
      ],
      "metadata": {
        "id": "CqMYLwlFtkss"
      },
      "execution_count": null,
      "outputs": []
    },
    {
      "cell_type": "code",
      "source": [
        "#largest merge of two strings\n",
        "class Solution:\n",
        "    def largestMerge(self, word1: str, word2: str) -> str:\n",
        "        i,j=0,0\n",
        "        res=\"\"\n",
        "        while i<len(word1) and j<len(word2):\n",
        "            if word1[i]>word2[j]:\n",
        "                res+=word1[i]\n",
        "                i+=1\n",
        "            elif word1[i]<word2[j]:\n",
        "                res+=word2[j]\n",
        "                j+=1\n",
        "            else:\n",
        "                if word1[i:]>word2[j:]:\n",
        "                    res+=word1[i]\n",
        "                    i+=1\n",
        "                else:\n",
        "                    res+=word2[j]\n",
        "                    j+=1\n",
        "        return res+word1[i:]+word2[j:]\n"
      ],
      "metadata": {
        "id": "3gOCCiHkt3wi"
      },
      "execution_count": null,
      "outputs": []
    },
    {
      "cell_type": "code",
      "source": [
        "#Richest customer wealth\n",
        "class Solution:\n",
        "    def maximumWealth(self, accounts: List[List[int]]) -> int:\n",
        "        return(max(map(sum,accounts)))"
      ],
      "metadata": {
        "id": "Evf2nOTkuMyf"
      },
      "execution_count": null,
      "outputs": []
    },
    {
      "cell_type": "code",
      "source": [
        "#Check if the sentence is pangram\n",
        "class Solution:\n",
        "    def checkIfPangram(self, sentence: str) -> bool:\n",
        "        return len(set(sentence))==26"
      ],
      "metadata": {
        "id": "w9Kc1h91uTUV"
      },
      "execution_count": null,
      "outputs": []
    }
  ]
}