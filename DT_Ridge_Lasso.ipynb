{
  "nbformat": 4,
  "nbformat_minor": 0,
  "metadata": {
    "colab": {
      "provenance": [],
      "include_colab_link": true
    },
    "kernelspec": {
      "name": "python3",
      "display_name": "Python 3"
    },
    "language_info": {
      "name": "python"
    }
  },
  "cells": [
    {
      "cell_type": "markdown",
      "metadata": {
        "id": "view-in-github",
        "colab_type": "text"
      },
      "source": [
        "<a href=\"https://colab.research.google.com/github/arjun-anapalli/Spectacles/blob/main/DT_Ridge_Lasso.ipynb\" target=\"_parent\"><img src=\"https://colab.research.google.com/assets/colab-badge.svg\" alt=\"Open In Colab\"/></a>"
      ]
    },
    {
      "cell_type": "markdown",
      "source": [
        "A Minute comparison between multiple regression models to evaluate which performs best on the same dataset. This Segment compares Linear regression with Lasso and Ridge regression (regularization techniques)."
      ],
      "metadata": {
        "id": "ntKIsMkkON2J"
      }
    },
    {
      "cell_type": "code",
      "execution_count": null,
      "metadata": {
        "colab": {
          "base_uri": "https://localhost:8080/"
        },
        "id": "kevIDclhzfEy",
        "outputId": "293945f9-0f4d-4fe0-fd28-1b65b9b4c6be"
      },
      "outputs": [
        {
          "output_type": "stream",
          "name": "stdout",
          "text": [
            "\n",
            "Linear Regression\n",
            " Mean Squared Error: 2900.1936\n",
            " Mean Absolute Error: 42.7941\n",
            " R² Score: 0.4526\n",
            "\n",
            "Ridge Regression\n",
            " Mean Squared Error: 3077.4159\n",
            " Mean Absolute Error: 46.1389\n",
            " R² Score: 0.4192\n",
            "\n",
            "Lasso Regression\n",
            " Mean Squared Error: 2798.1935\n",
            " Mean Absolute Error: 42.8544\n",
            " R² Score: 0.4719\n",
            "\n",
            "🏆 Best Model: Lasso Regression with R² Score of 0.4719\n"
          ]
        }
      ],
      "source": [
        "\n",
        "import numpy as np\n",
        "import pandas as pd\n",
        "from sklearn.datasets import load_diabetes\n",
        "from sklearn.linear_model import LinearRegression, Ridge, Lasso\n",
        "from sklearn.metrics import mean_squared_error, mean_absolute_error, r2_score\n",
        "from sklearn.model_selection import train_test_split\n",
        "\n",
        "# Load dataset\n",
        "data = load_diabetes()\n",
        "X = pd.DataFrame(data.data, columns=data.feature_names)\n",
        "y = pd.Series(data.target)\n",
        "\n",
        "# Split the data\n",
        "X_train, X_test, y_train, y_test = train_test_split(X, y, test_size=0.2, random_state=42)\n",
        "\n",
        "# Initialize models\n",
        "models = {\n",
        "'Linear Regression': LinearRegression(),\n",
        "'Ridge Regression': Ridge(alpha=1.0),\n",
        "'Lasso Regression': Lasso(alpha=0.1)\n",
        "}\n",
        "\n",
        "results = {}\n",
        "for name, model in models.items():\n",
        "  model.fit(X_train, y_train)\n",
        "  y_pred = model.predict(X_test)\n",
        "  mse = mean_squared_error(y_test, y_pred)\n",
        "  mae = mean_absolute_error(y_test, y_pred)\n",
        "  r2 = r2_score(y_test, y_pred)\n",
        "  results[name] = {'MSE': mse, 'MAE': mae, 'R2': r2}\n",
        "  print(f\"\\n{name}\")\n",
        "  print(f\" Mean Squared Error: {mse:.4f}\")\n",
        "  print(f\" Mean Absolute Error: {mae:.4f}\")\n",
        "  print(f\" R² Score: {r2:.4f}\")\n",
        "\n",
        "# Best model based on R² Score\n",
        "best_model = max(results, key=lambda k: results[k]['R2'])\n",
        "print(f\"\\n Best Model: {best_model} with R² Score of {results[best_model]['R2']:.4f}\")"
      ]
    }
  ]
}